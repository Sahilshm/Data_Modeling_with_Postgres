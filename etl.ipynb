{
 "cells": [
  {
   "cell_type": "markdown",
   "metadata": {},
   "source": [
    "# ETL Notebook\n",
    "\"Reads and processes a single file from song_data and log_data and loads the data into your tables. This notebook contains detailed instructions on the ETL process for each of the tables\""
   ]
  },
  {
   "cell_type": "code",
   "execution_count": 88,
   "metadata": {},
   "outputs": [],
   "source": [
    "import os\n",
    "import glob\n",
    "import psycopg2\n",
    "from sql_queries import *\n",
    "import pandas as pd"
   ]
  },
  {
   "cell_type": "markdown",
   "metadata": {},
   "source": [
    "Configuring connection with postgres db"
   ]
  },
  {
   "cell_type": "code",
   "execution_count": 89,
   "metadata": {},
   "outputs": [],
   "source": [
    "conn = psycopg2.connect(\"host=127.0.0.1 dbname=sparkifydb user=sparkify password=pass123\")\n",
    "cur = conn.cursor()\n",
    "# conn.close()"
   ]
  },
  {
   "cell_type": "markdown",
   "metadata": {},
   "source": [
    "Fetch data files"
   ]
  },
  {
   "cell_type": "code",
   "execution_count": 90,
   "metadata": {},
   "outputs": [],
   "source": [
    "def get_files(filepath):\n",
    "    all_files = []\n",
    "    for root, dirs, files in os.walk(filepath):\n",
    "        files = glob.glob(os.path.join(root,'*.json'))\n",
    "        for f in files :\n",
    "            all_files.append(os.path.abspath(f))\n",
    "    \n",
    "    return all_files"
   ]
  },
  {
   "cell_type": "markdown",
   "metadata": {},
   "source": [
    "# Process song_data\n",
    "In this first part, we'll perform ETL on the first dataset, song_data, to create the songs and artists dimensional tables.\n",
    "\n",
    "Let's perform ETL on a single song file and load a single record into each table to start.\n",
    "\n",
    "* Use the get_files function provided above to get a list of all song JSON files in data/song_data\n",
    "* Select the first song in this list\n",
    "* Read the song file and view the data"
   ]
  },
  {
   "cell_type": "code",
   "execution_count": 91,
   "metadata": {},
   "outputs": [
    {
     "name": "stdout",
     "output_type": "stream",
     "text": [
      "['g:\\\\GitHub\\\\Data_Modeling_with_Postgres\\\\data\\\\data_files\\\\song_data\\\\A\\\\A\\\\A\\\\TRAAAAW128F429D538.json', 'g:\\\\GitHub\\\\Data_Modeling_with_Postgres\\\\data\\\\data_files\\\\song_data\\\\A\\\\A\\\\A\\\\TRAAABD128F429CF47.json', 'g:\\\\GitHub\\\\Data_Modeling_with_Postgres\\\\data\\\\data_files\\\\song_data\\\\A\\\\A\\\\A\\\\TRAAADZ128F9348C2E.json', 'g:\\\\GitHub\\\\Data_Modeling_with_Postgres\\\\data\\\\data_files\\\\song_data\\\\A\\\\A\\\\A\\\\TRAAAEF128F4273421.json', 'g:\\\\GitHub\\\\Data_Modeling_with_Postgres\\\\data\\\\data_files\\\\song_data\\\\A\\\\A\\\\A\\\\TRAAAFD128F92F423A.json', 'g:\\\\GitHub\\\\Data_Modeling_with_Postgres\\\\data\\\\data_files\\\\song_data\\\\A\\\\A\\\\A\\\\TRAAAMO128F1481E7F.json', 'g:\\\\GitHub\\\\Data_Modeling_with_Postgres\\\\data\\\\data_files\\\\song_data\\\\A\\\\A\\\\A\\\\TRAAAMQ128F1460CD3.json', 'g:\\\\GitHub\\\\Data_Modeling_with_Postgres\\\\data\\\\data_files\\\\song_data\\\\A\\\\A\\\\A\\\\TRAAAPK128E0786D96.json', 'g:\\\\GitHub\\\\Data_Modeling_with_Postgres\\\\data\\\\data_files\\\\song_data\\\\A\\\\A\\\\A\\\\TRAAARJ128F9320760.json', 'g:\\\\GitHub\\\\Data_Modeling_with_Postgres\\\\data\\\\data_files\\\\song_data\\\\A\\\\A\\\\A\\\\TRAAAVG12903CFA543.json', 'g:\\\\GitHub\\\\Data_Modeling_with_Postgres\\\\data\\\\data_files\\\\song_data\\\\A\\\\A\\\\A\\\\TRAAAVO128F93133D4.json', 'g:\\\\GitHub\\\\Data_Modeling_with_Postgres\\\\data\\\\data_files\\\\song_data\\\\A\\\\A\\\\A\\\\.ipynb_checkpoints\\\\TRAAAAW128F429D538-checkpoint.json', 'g:\\\\GitHub\\\\Data_Modeling_with_Postgres\\\\data\\\\data_files\\\\song_data\\\\A\\\\A\\\\A\\\\.ipynb_checkpoints\\\\TRAAABD128F429CF47-checkpoint.json', 'g:\\\\GitHub\\\\Data_Modeling_with_Postgres\\\\data\\\\data_files\\\\song_data\\\\A\\\\A\\\\A\\\\.ipynb_checkpoints\\\\TRAAADZ128F9348C2E-checkpoint.json', 'g:\\\\GitHub\\\\Data_Modeling_with_Postgres\\\\data\\\\data_files\\\\song_data\\\\A\\\\A\\\\A\\\\.ipynb_checkpoints\\\\TRAAAEF128F4273421-checkpoint.json', 'g:\\\\GitHub\\\\Data_Modeling_with_Postgres\\\\data\\\\data_files\\\\song_data\\\\A\\\\A\\\\B\\\\TRAABCL128F4286650.json', 'g:\\\\GitHub\\\\Data_Modeling_with_Postgres\\\\data\\\\data_files\\\\song_data\\\\A\\\\A\\\\B\\\\TRAABDL12903CAABBA.json', 'g:\\\\GitHub\\\\Data_Modeling_with_Postgres\\\\data\\\\data_files\\\\song_data\\\\A\\\\A\\\\B\\\\TRAABJL12903CDCF1A.json', 'g:\\\\GitHub\\\\Data_Modeling_with_Postgres\\\\data\\\\data_files\\\\song_data\\\\A\\\\A\\\\B\\\\TRAABJV128F1460C49.json', 'g:\\\\GitHub\\\\Data_Modeling_with_Postgres\\\\data\\\\data_files\\\\song_data\\\\A\\\\A\\\\B\\\\TRAABLR128F423B7E3.json', 'g:\\\\GitHub\\\\Data_Modeling_with_Postgres\\\\data\\\\data_files\\\\song_data\\\\A\\\\A\\\\B\\\\TRAABNV128F425CEE1.json', 'g:\\\\GitHub\\\\Data_Modeling_with_Postgres\\\\data\\\\data_files\\\\song_data\\\\A\\\\A\\\\B\\\\TRAABRB128F9306DD5.json', 'g:\\\\GitHub\\\\Data_Modeling_with_Postgres\\\\data\\\\data_files\\\\song_data\\\\A\\\\A\\\\B\\\\TRAABVM128F92CA9DC.json', 'g:\\\\GitHub\\\\Data_Modeling_with_Postgres\\\\data\\\\data_files\\\\song_data\\\\A\\\\A\\\\B\\\\TRAABXG128F9318EBD.json', 'g:\\\\GitHub\\\\Data_Modeling_with_Postgres\\\\data\\\\data_files\\\\song_data\\\\A\\\\A\\\\B\\\\TRAABYN12903CFD305.json', 'g:\\\\GitHub\\\\Data_Modeling_with_Postgres\\\\data\\\\data_files\\\\song_data\\\\A\\\\A\\\\B\\\\TRAABYW128F4244559.json', 'g:\\\\GitHub\\\\Data_Modeling_with_Postgres\\\\data\\\\data_files\\\\song_data\\\\A\\\\A\\\\C\\\\TRAACCG128F92E8A55.json', 'g:\\\\GitHub\\\\Data_Modeling_with_Postgres\\\\data\\\\data_files\\\\song_data\\\\A\\\\A\\\\C\\\\TRAACER128F4290F96.json', 'g:\\\\GitHub\\\\Data_Modeling_with_Postgres\\\\data\\\\data_files\\\\song_data\\\\A\\\\A\\\\C\\\\TRAACFV128F935E50B.json', 'g:\\\\GitHub\\\\Data_Modeling_with_Postgres\\\\data\\\\data_files\\\\song_data\\\\A\\\\A\\\\C\\\\TRAACHN128F1489601.json', 'g:\\\\GitHub\\\\Data_Modeling_with_Postgres\\\\data\\\\data_files\\\\song_data\\\\A\\\\A\\\\C\\\\TRAACIW12903CC0F6D.json', 'g:\\\\GitHub\\\\Data_Modeling_with_Postgres\\\\data\\\\data_files\\\\song_data\\\\A\\\\A\\\\C\\\\TRAACLV128F427E123.json', 'g:\\\\GitHub\\\\Data_Modeling_with_Postgres\\\\data\\\\data_files\\\\song_data\\\\A\\\\A\\\\C\\\\TRAACNS128F14A2DF5.json', 'g:\\\\GitHub\\\\Data_Modeling_with_Postgres\\\\data\\\\data_files\\\\song_data\\\\A\\\\A\\\\C\\\\TRAACOW128F933E35F.json', 'g:\\\\GitHub\\\\Data_Modeling_with_Postgres\\\\data\\\\data_files\\\\song_data\\\\A\\\\A\\\\C\\\\TRAACPE128F421C1B9.json', 'g:\\\\GitHub\\\\Data_Modeling_with_Postgres\\\\data\\\\data_files\\\\song_data\\\\A\\\\A\\\\C\\\\TRAACQT128F9331780.json', 'g:\\\\GitHub\\\\Data_Modeling_with_Postgres\\\\data\\\\data_files\\\\song_data\\\\A\\\\A\\\\C\\\\TRAACSL128F93462F4.json', 'g:\\\\GitHub\\\\Data_Modeling_with_Postgres\\\\data\\\\data_files\\\\song_data\\\\A\\\\A\\\\C\\\\TRAACTB12903CAAF15.json', 'g:\\\\GitHub\\\\Data_Modeling_with_Postgres\\\\data\\\\data_files\\\\song_data\\\\A\\\\A\\\\C\\\\TRAACVS128E078BE39.json', 'g:\\\\GitHub\\\\Data_Modeling_with_Postgres\\\\data\\\\data_files\\\\song_data\\\\A\\\\A\\\\C\\\\TRAACZK128F4243829.json', 'g:\\\\GitHub\\\\Data_Modeling_with_Postgres\\\\data\\\\data_files\\\\song_data\\\\A\\\\B\\\\A\\\\TRABACN128F425B784.json', 'g:\\\\GitHub\\\\Data_Modeling_with_Postgres\\\\data\\\\data_files\\\\song_data\\\\A\\\\B\\\\A\\\\TRABAFJ128F42AF24E.json', 'g:\\\\GitHub\\\\Data_Modeling_with_Postgres\\\\data\\\\data_files\\\\song_data\\\\A\\\\B\\\\A\\\\TRABAFP128F931E9A1.json', 'g:\\\\GitHub\\\\Data_Modeling_with_Postgres\\\\data\\\\data_files\\\\song_data\\\\A\\\\B\\\\A\\\\TRABAIO128F42938F9.json', 'g:\\\\GitHub\\\\Data_Modeling_with_Postgres\\\\data\\\\data_files\\\\song_data\\\\A\\\\B\\\\A\\\\TRABATO128F42627E9.json', 'g:\\\\GitHub\\\\Data_Modeling_with_Postgres\\\\data\\\\data_files\\\\song_data\\\\A\\\\B\\\\A\\\\TRABAVQ12903CBF7E0.json', 'g:\\\\GitHub\\\\Data_Modeling_with_Postgres\\\\data\\\\data_files\\\\song_data\\\\A\\\\B\\\\A\\\\TRABAWW128F4250A31.json', 'g:\\\\GitHub\\\\Data_Modeling_with_Postgres\\\\data\\\\data_files\\\\song_data\\\\A\\\\B\\\\A\\\\TRABAXL128F424FC50.json', 'g:\\\\GitHub\\\\Data_Modeling_with_Postgres\\\\data\\\\data_files\\\\song_data\\\\A\\\\B\\\\A\\\\TRABAXR128F426515F.json', 'g:\\\\GitHub\\\\Data_Modeling_with_Postgres\\\\data\\\\data_files\\\\song_data\\\\A\\\\B\\\\A\\\\TRABAXV128F92F6AE3.json', 'g:\\\\GitHub\\\\Data_Modeling_with_Postgres\\\\data\\\\data_files\\\\song_data\\\\A\\\\B\\\\A\\\\TRABAZH128F930419A.json', 'g:\\\\GitHub\\\\Data_Modeling_with_Postgres\\\\data\\\\data_files\\\\song_data\\\\A\\\\B\\\\B\\\\TRABBAM128F429D223.json', 'g:\\\\GitHub\\\\Data_Modeling_with_Postgres\\\\data\\\\data_files\\\\song_data\\\\A\\\\B\\\\B\\\\TRABBBV128F42967D7.json', 'g:\\\\GitHub\\\\Data_Modeling_with_Postgres\\\\data\\\\data_files\\\\song_data\\\\A\\\\B\\\\B\\\\TRABBJE12903CDB442.json', 'g:\\\\GitHub\\\\Data_Modeling_with_Postgres\\\\data\\\\data_files\\\\song_data\\\\A\\\\B\\\\B\\\\TRABBKX128F4285205.json', 'g:\\\\GitHub\\\\Data_Modeling_with_Postgres\\\\data\\\\data_files\\\\song_data\\\\A\\\\B\\\\B\\\\TRABBLU128F93349CF.json', 'g:\\\\GitHub\\\\Data_Modeling_with_Postgres\\\\data\\\\data_files\\\\song_data\\\\A\\\\B\\\\B\\\\TRABBNP128F932546F.json', 'g:\\\\GitHub\\\\Data_Modeling_with_Postgres\\\\data\\\\data_files\\\\song_data\\\\A\\\\B\\\\B\\\\TRABBOP128F931B50D.json', 'g:\\\\GitHub\\\\Data_Modeling_with_Postgres\\\\data\\\\data_files\\\\song_data\\\\A\\\\B\\\\B\\\\TRABBOR128F4286200.json', 'g:\\\\GitHub\\\\Data_Modeling_with_Postgres\\\\data\\\\data_files\\\\song_data\\\\A\\\\B\\\\B\\\\TRABBTA128F933D304.json', 'g:\\\\GitHub\\\\Data_Modeling_with_Postgres\\\\data\\\\data_files\\\\song_data\\\\A\\\\B\\\\B\\\\TRABBVJ128F92F7EAA.json', 'g:\\\\GitHub\\\\Data_Modeling_with_Postgres\\\\data\\\\data_files\\\\song_data\\\\A\\\\B\\\\B\\\\TRABBXU128F92FEF48.json', 'g:\\\\GitHub\\\\Data_Modeling_with_Postgres\\\\data\\\\data_files\\\\song_data\\\\A\\\\B\\\\B\\\\TRABBZN12903CD9297.json', 'g:\\\\GitHub\\\\Data_Modeling_with_Postgres\\\\data\\\\data_files\\\\song_data\\\\A\\\\B\\\\C\\\\TRABCAJ12903CDFCC2.json', 'g:\\\\GitHub\\\\Data_Modeling_with_Postgres\\\\data\\\\data_files\\\\song_data\\\\A\\\\B\\\\C\\\\TRABCEC128F426456E.json', 'g:\\\\GitHub\\\\Data_Modeling_with_Postgres\\\\data\\\\data_files\\\\song_data\\\\A\\\\B\\\\C\\\\TRABCEI128F424C983.json', 'g:\\\\GitHub\\\\Data_Modeling_with_Postgres\\\\data\\\\data_files\\\\song_data\\\\A\\\\B\\\\C\\\\TRABCFL128F149BB0D.json', 'g:\\\\GitHub\\\\Data_Modeling_with_Postgres\\\\data\\\\data_files\\\\song_data\\\\A\\\\B\\\\C\\\\TRABCIX128F4265903.json', 'g:\\\\GitHub\\\\Data_Modeling_with_Postgres\\\\data\\\\data_files\\\\song_data\\\\A\\\\B\\\\C\\\\TRABCKL128F423A778.json', 'g:\\\\GitHub\\\\Data_Modeling_with_Postgres\\\\data\\\\data_files\\\\song_data\\\\A\\\\B\\\\C\\\\TRABCPZ128F4275C32.json', 'g:\\\\GitHub\\\\Data_Modeling_with_Postgres\\\\data\\\\data_files\\\\song_data\\\\A\\\\B\\\\C\\\\TRABCRU128F423F449.json', 'g:\\\\GitHub\\\\Data_Modeling_with_Postgres\\\\data\\\\data_files\\\\song_data\\\\A\\\\B\\\\C\\\\TRABCTK128F934B224.json', 'g:\\\\GitHub\\\\Data_Modeling_with_Postgres\\\\data\\\\data_files\\\\song_data\\\\A\\\\B\\\\C\\\\TRABCUQ128E0783E2B.json', 'g:\\\\GitHub\\\\Data_Modeling_with_Postgres\\\\data\\\\data_files\\\\song_data\\\\A\\\\B\\\\C\\\\TRABCXB128F4286BD3.json', 'g:\\\\GitHub\\\\Data_Modeling_with_Postgres\\\\data\\\\data_files\\\\song_data\\\\A\\\\B\\\\C\\\\TRABCYE128F934CE1D.json']\n"
     ]
    }
   ],
   "source": [
    "song_files = get_files(\"data/data_files/song_data/\")\n",
    "print(song_files)"
   ]
  },
  {
   "cell_type": "code",
   "execution_count": 92,
   "metadata": {},
   "outputs": [],
   "source": [
    "filepath = song_files[0]"
   ]
  },
  {
   "cell_type": "markdown",
   "metadata": {},
   "source": [
    "Reading data into dataframe"
   ]
  },
  {
   "cell_type": "code",
   "execution_count": 93,
   "metadata": {},
   "outputs": [
    {
     "data": {
      "text/html": [
       "<div>\n",
       "<style scoped>\n",
       "    .dataframe tbody tr th:only-of-type {\n",
       "        vertical-align: middle;\n",
       "    }\n",
       "\n",
       "    .dataframe tbody tr th {\n",
       "        vertical-align: top;\n",
       "    }\n",
       "\n",
       "    .dataframe thead th {\n",
       "        text-align: right;\n",
       "    }\n",
       "</style>\n",
       "<table border=\"1\" class=\"dataframe\">\n",
       "  <thead>\n",
       "    <tr style=\"text-align: right;\">\n",
       "      <th></th>\n",
       "      <th>num_songs</th>\n",
       "      <th>artist_id</th>\n",
       "      <th>artist_latitude</th>\n",
       "      <th>artist_longitude</th>\n",
       "      <th>artist_location</th>\n",
       "      <th>artist_name</th>\n",
       "      <th>song_id</th>\n",
       "      <th>title</th>\n",
       "      <th>duration</th>\n",
       "      <th>year</th>\n",
       "    </tr>\n",
       "  </thead>\n",
       "  <tbody>\n",
       "    <tr>\n",
       "      <th>0</th>\n",
       "      <td>1</td>\n",
       "      <td>ARD7TVE1187B99BFB1</td>\n",
       "      <td>NaN</td>\n",
       "      <td>NaN</td>\n",
       "      <td>California - LA</td>\n",
       "      <td>Casual</td>\n",
       "      <td>SOMZWCG12A8C13C480</td>\n",
       "      <td>I Didn't Mean To</td>\n",
       "      <td>218.93179</td>\n",
       "      <td>0</td>\n",
       "    </tr>\n",
       "  </tbody>\n",
       "</table>\n",
       "</div>"
      ],
      "text/plain": [
       "   num_songs           artist_id  artist_latitude  artist_longitude  \\\n",
       "0          1  ARD7TVE1187B99BFB1              NaN               NaN   \n",
       "\n",
       "   artist_location artist_name             song_id             title  \\\n",
       "0  California - LA      Casual  SOMZWCG12A8C13C480  I Didn't Mean To   \n",
       "\n",
       "    duration  year  \n",
       "0  218.93179     0  "
      ]
     },
     "execution_count": 93,
     "metadata": {},
     "output_type": "execute_result"
    }
   ],
   "source": [
    "df = pd.read_json(filepath, lines=True)\n",
    "df.head()"
   ]
  },
  {
   "cell_type": "markdown",
   "metadata": {},
   "source": [
    "## Songs Table\n",
    "# Extract Data for Songs Table\n",
    "* Select columns for song ID, title, artist ID, year, and duration\n",
    "* Use df.values to select just the values from the dataframe\n",
    "* Index to select the first (only) record in the dataframe\n",
    "* Convert the array to a list and set it to song_data"
   ]
  },
  {
   "cell_type": "code",
   "execution_count": 94,
   "metadata": {},
   "outputs": [],
   "source": [
    "song_data = df[['song_id', 'title','artist_id','year','duration']].values.tolist()[0]"
   ]
  },
  {
   "cell_type": "markdown",
   "metadata": {},
   "source": [
    "# Insert Record into Song Table\n",
    "Implement the song_table_insert query in sql_queries.py and run the cell below to insert a record for this song into the songs table. Remember to run create_tables.py before running the cell below to ensure you've created/resetted the songs table in the sparkify database."
   ]
  },
  {
   "cell_type": "code",
   "execution_count": 95,
   "metadata": {},
   "outputs": [],
   "source": [
    "cur.execute(songs_insert, song_data)\n",
    "conn.commit()"
   ]
  },
  {
   "cell_type": "markdown",
   "metadata": {},
   "source": [
    "## Artists Table\n",
    "# Extract Data for Artists Table\n",
    "* Select columns for artist ID, name, location, latitude, and longitude\n",
    "* Use df.values to select just the values from the dataframe\n",
    "* Index to select the first (only) record in the dataframe\n",
    "* Convert the array to a list and set it to artist_data"
   ]
  },
  {
   "cell_type": "code",
   "execution_count": 96,
   "metadata": {},
   "outputs": [
    {
     "name": "stdout",
     "output_type": "stream",
     "text": [
      "['ARD7TVE1187B99BFB1', 'Casual', 'California - LA', nan, nan]\n"
     ]
    }
   ],
   "source": [
    "artist_data = df[['artist_id', 'artist_name','artist_location','artist_latitude','artist_longitude']].values.tolist()[0]\n",
    "print(artist_data)"
   ]
  },
  {
   "cell_type": "markdown",
   "metadata": {},
   "source": [
    "# Insert Record into Artist Table\n",
    "Implement the artist_table_insert query in sql_queries.py and run the cell below to insert a record for this song's artist into the artists table. Remember to run create_tables.py before running the cell below to ensure you've created/resetted the artists table in the sparkify database."
   ]
  },
  {
   "cell_type": "code",
   "execution_count": 97,
   "metadata": {},
   "outputs": [],
   "source": [
    "cur.execute(artists_insert, artist_data)\n",
    "conn.commit()"
   ]
  },
  {
   "cell_type": "markdown",
   "metadata": {},
   "source": [
    "Run test.ipynb to see if you've successfully added a record to this table."
   ]
  },
  {
   "cell_type": "markdown",
   "metadata": {},
   "source": [
    "# Process log_data\n",
    "In this part, you'll perform ETL on the second dataset, log_data, to create the time and users dimensional tables, as well as the songplays fact table.\n",
    "\n",
    "Let's perform ETL on a single log file and load a single record into each table.\n",
    "\n",
    "* Use the get_files function provided above to get a list of all log JSON files in data/log_data\n",
    "* Select the first log file in this list\n",
    "* Read the log file and view the data"
   ]
  },
  {
   "cell_type": "code",
   "execution_count": 98,
   "metadata": {},
   "outputs": [],
   "source": [
    "log_files = get_files(\"data/data_files/logs\")"
   ]
  },
  {
   "cell_type": "code",
   "execution_count": 99,
   "metadata": {},
   "outputs": [],
   "source": [
    "filepath = log_files[0]"
   ]
  },
  {
   "cell_type": "code",
   "execution_count": 100,
   "metadata": {},
   "outputs": [
    {
     "data": {
      "text/html": [
       "<div>\n",
       "<style scoped>\n",
       "    .dataframe tbody tr th:only-of-type {\n",
       "        vertical-align: middle;\n",
       "    }\n",
       "\n",
       "    .dataframe tbody tr th {\n",
       "        vertical-align: top;\n",
       "    }\n",
       "\n",
       "    .dataframe thead th {\n",
       "        text-align: right;\n",
       "    }\n",
       "</style>\n",
       "<table border=\"1\" class=\"dataframe\">\n",
       "  <thead>\n",
       "    <tr style=\"text-align: right;\">\n",
       "      <th></th>\n",
       "      <th>artist</th>\n",
       "      <th>auth</th>\n",
       "      <th>firstName</th>\n",
       "      <th>gender</th>\n",
       "      <th>itemInSession</th>\n",
       "      <th>lastName</th>\n",
       "      <th>length</th>\n",
       "      <th>level</th>\n",
       "      <th>location</th>\n",
       "      <th>method</th>\n",
       "      <th>page</th>\n",
       "      <th>registration</th>\n",
       "      <th>sessionId</th>\n",
       "      <th>song</th>\n",
       "      <th>status</th>\n",
       "      <th>ts</th>\n",
       "      <th>userAgent</th>\n",
       "      <th>userId</th>\n",
       "    </tr>\n",
       "  </thead>\n",
       "  <tbody>\n",
       "    <tr>\n",
       "      <th>0</th>\n",
       "      <td>None</td>\n",
       "      <td>Logged In</td>\n",
       "      <td>Walter</td>\n",
       "      <td>M</td>\n",
       "      <td>0</td>\n",
       "      <td>Frye</td>\n",
       "      <td>NaN</td>\n",
       "      <td>free</td>\n",
       "      <td>San Francisco-Oakland-Hayward, CA</td>\n",
       "      <td>GET</td>\n",
       "      <td>Home</td>\n",
       "      <td>1540919166796</td>\n",
       "      <td>38</td>\n",
       "      <td>None</td>\n",
       "      <td>200</td>\n",
       "      <td>1541105830796</td>\n",
       "      <td>\"Mozilla/5.0 (Macintosh; Intel Mac OS X 10_9_4...</td>\n",
       "      <td>39</td>\n",
       "    </tr>\n",
       "    <tr>\n",
       "      <th>1</th>\n",
       "      <td>None</td>\n",
       "      <td>Logged In</td>\n",
       "      <td>Kaylee</td>\n",
       "      <td>F</td>\n",
       "      <td>0</td>\n",
       "      <td>Summers</td>\n",
       "      <td>NaN</td>\n",
       "      <td>free</td>\n",
       "      <td>Phoenix-Mesa-Scottsdale, AZ</td>\n",
       "      <td>GET</td>\n",
       "      <td>Home</td>\n",
       "      <td>1540344794796</td>\n",
       "      <td>139</td>\n",
       "      <td>None</td>\n",
       "      <td>200</td>\n",
       "      <td>1541106106796</td>\n",
       "      <td>\"Mozilla/5.0 (Windows NT 6.1; WOW64) AppleWebK...</td>\n",
       "      <td>8</td>\n",
       "    </tr>\n",
       "    <tr>\n",
       "      <th>2</th>\n",
       "      <td>Des'ree</td>\n",
       "      <td>Logged In</td>\n",
       "      <td>Kaylee</td>\n",
       "      <td>F</td>\n",
       "      <td>1</td>\n",
       "      <td>Summers</td>\n",
       "      <td>246.30812</td>\n",
       "      <td>free</td>\n",
       "      <td>Phoenix-Mesa-Scottsdale, AZ</td>\n",
       "      <td>PUT</td>\n",
       "      <td>NextSong</td>\n",
       "      <td>1540344794796</td>\n",
       "      <td>139</td>\n",
       "      <td>You Gotta Be</td>\n",
       "      <td>200</td>\n",
       "      <td>1541106106796</td>\n",
       "      <td>\"Mozilla/5.0 (Windows NT 6.1; WOW64) AppleWebK...</td>\n",
       "      <td>8</td>\n",
       "    </tr>\n",
       "    <tr>\n",
       "      <th>3</th>\n",
       "      <td>None</td>\n",
       "      <td>Logged In</td>\n",
       "      <td>Kaylee</td>\n",
       "      <td>F</td>\n",
       "      <td>2</td>\n",
       "      <td>Summers</td>\n",
       "      <td>NaN</td>\n",
       "      <td>free</td>\n",
       "      <td>Phoenix-Mesa-Scottsdale, AZ</td>\n",
       "      <td>GET</td>\n",
       "      <td>Upgrade</td>\n",
       "      <td>1540344794796</td>\n",
       "      <td>139</td>\n",
       "      <td>None</td>\n",
       "      <td>200</td>\n",
       "      <td>1541106132796</td>\n",
       "      <td>\"Mozilla/5.0 (Windows NT 6.1; WOW64) AppleWebK...</td>\n",
       "      <td>8</td>\n",
       "    </tr>\n",
       "    <tr>\n",
       "      <th>4</th>\n",
       "      <td>Mr Oizo</td>\n",
       "      <td>Logged In</td>\n",
       "      <td>Kaylee</td>\n",
       "      <td>F</td>\n",
       "      <td>3</td>\n",
       "      <td>Summers</td>\n",
       "      <td>144.03873</td>\n",
       "      <td>free</td>\n",
       "      <td>Phoenix-Mesa-Scottsdale, AZ</td>\n",
       "      <td>PUT</td>\n",
       "      <td>NextSong</td>\n",
       "      <td>1540344794796</td>\n",
       "      <td>139</td>\n",
       "      <td>Flat 55</td>\n",
       "      <td>200</td>\n",
       "      <td>1541106352796</td>\n",
       "      <td>\"Mozilla/5.0 (Windows NT 6.1; WOW64) AppleWebK...</td>\n",
       "      <td>8</td>\n",
       "    </tr>\n",
       "  </tbody>\n",
       "</table>\n",
       "</div>"
      ],
      "text/plain": [
       "    artist       auth firstName gender  itemInSession lastName     length  \\\n",
       "0     None  Logged In    Walter      M              0     Frye        NaN   \n",
       "1     None  Logged In    Kaylee      F              0  Summers        NaN   \n",
       "2  Des'ree  Logged In    Kaylee      F              1  Summers  246.30812   \n",
       "3     None  Logged In    Kaylee      F              2  Summers        NaN   \n",
       "4  Mr Oizo  Logged In    Kaylee      F              3  Summers  144.03873   \n",
       "\n",
       "  level                           location method      page   registration  \\\n",
       "0  free  San Francisco-Oakland-Hayward, CA    GET      Home  1540919166796   \n",
       "1  free        Phoenix-Mesa-Scottsdale, AZ    GET      Home  1540344794796   \n",
       "2  free        Phoenix-Mesa-Scottsdale, AZ    PUT  NextSong  1540344794796   \n",
       "3  free        Phoenix-Mesa-Scottsdale, AZ    GET   Upgrade  1540344794796   \n",
       "4  free        Phoenix-Mesa-Scottsdale, AZ    PUT  NextSong  1540344794796   \n",
       "\n",
       "   sessionId          song  status             ts  \\\n",
       "0         38          None     200  1541105830796   \n",
       "1        139          None     200  1541106106796   \n",
       "2        139  You Gotta Be     200  1541106106796   \n",
       "3        139          None     200  1541106132796   \n",
       "4        139       Flat 55     200  1541106352796   \n",
       "\n",
       "                                           userAgent  userId  \n",
       "0  \"Mozilla/5.0 (Macintosh; Intel Mac OS X 10_9_4...      39  \n",
       "1  \"Mozilla/5.0 (Windows NT 6.1; WOW64) AppleWebK...       8  \n",
       "2  \"Mozilla/5.0 (Windows NT 6.1; WOW64) AppleWebK...       8  \n",
       "3  \"Mozilla/5.0 (Windows NT 6.1; WOW64) AppleWebK...       8  \n",
       "4  \"Mozilla/5.0 (Windows NT 6.1; WOW64) AppleWebK...       8  "
      ]
     },
     "execution_count": 100,
     "metadata": {},
     "output_type": "execute_result"
    }
   ],
   "source": [
    "df = pd.read_json(filepath, lines=True)\n",
    "df.head()"
   ]
  },
  {
   "cell_type": "markdown",
   "metadata": {},
   "source": [
    "## Time Table\n",
    "# Extract Data for Time Table\n",
    "* Filter records by NextSong action\n",
    "* Convert the ts timestamp column to datetime\n",
    "* * Hint: the current timestamp is in milliseconds\n",
    "* Extract the timestamp, hour, day, week of year, month, year, and weekday from the ts column and set time_data to a list containing these values in order\n",
    "* * Hint: use pandas' dt attribute to access easily datetimelike properties.\n",
    "* Specify labels for these columns and set to column_labels\n",
    "* Create a dataframe, time_df, containing the time data for this file by combining column_labels and time_data into a dictionary and converting this into a dataframe"
   ]
  },
  {
   "cell_type": "code",
   "execution_count": 101,
   "metadata": {},
   "outputs": [
    {
     "data": {
      "text/html": [
       "<div>\n",
       "<style scoped>\n",
       "    .dataframe tbody tr th:only-of-type {\n",
       "        vertical-align: middle;\n",
       "    }\n",
       "\n",
       "    .dataframe tbody tr th {\n",
       "        vertical-align: top;\n",
       "    }\n",
       "\n",
       "    .dataframe thead th {\n",
       "        text-align: right;\n",
       "    }\n",
       "</style>\n",
       "<table border=\"1\" class=\"dataframe\">\n",
       "  <thead>\n",
       "    <tr style=\"text-align: right;\">\n",
       "      <th></th>\n",
       "      <th>artist</th>\n",
       "      <th>auth</th>\n",
       "      <th>firstName</th>\n",
       "      <th>gender</th>\n",
       "      <th>itemInSession</th>\n",
       "      <th>lastName</th>\n",
       "      <th>length</th>\n",
       "      <th>level</th>\n",
       "      <th>location</th>\n",
       "      <th>method</th>\n",
       "      <th>page</th>\n",
       "      <th>registration</th>\n",
       "      <th>sessionId</th>\n",
       "      <th>song</th>\n",
       "      <th>status</th>\n",
       "      <th>ts</th>\n",
       "      <th>userAgent</th>\n",
       "      <th>userId</th>\n",
       "    </tr>\n",
       "  </thead>\n",
       "  <tbody>\n",
       "    <tr>\n",
       "      <th>2</th>\n",
       "      <td>Des'ree</td>\n",
       "      <td>Logged In</td>\n",
       "      <td>Kaylee</td>\n",
       "      <td>F</td>\n",
       "      <td>1</td>\n",
       "      <td>Summers</td>\n",
       "      <td>246.30812</td>\n",
       "      <td>free</td>\n",
       "      <td>Phoenix-Mesa-Scottsdale, AZ</td>\n",
       "      <td>PUT</td>\n",
       "      <td>NextSong</td>\n",
       "      <td>1540344794796</td>\n",
       "      <td>139</td>\n",
       "      <td>You Gotta Be</td>\n",
       "      <td>200</td>\n",
       "      <td>1541106106796</td>\n",
       "      <td>\"Mozilla/5.0 (Windows NT 6.1; WOW64) AppleWebK...</td>\n",
       "      <td>8</td>\n",
       "    </tr>\n",
       "    <tr>\n",
       "      <th>4</th>\n",
       "      <td>Mr Oizo</td>\n",
       "      <td>Logged In</td>\n",
       "      <td>Kaylee</td>\n",
       "      <td>F</td>\n",
       "      <td>3</td>\n",
       "      <td>Summers</td>\n",
       "      <td>144.03873</td>\n",
       "      <td>free</td>\n",
       "      <td>Phoenix-Mesa-Scottsdale, AZ</td>\n",
       "      <td>PUT</td>\n",
       "      <td>NextSong</td>\n",
       "      <td>1540344794796</td>\n",
       "      <td>139</td>\n",
       "      <td>Flat 55</td>\n",
       "      <td>200</td>\n",
       "      <td>1541106352796</td>\n",
       "      <td>\"Mozilla/5.0 (Windows NT 6.1; WOW64) AppleWebK...</td>\n",
       "      <td>8</td>\n",
       "    </tr>\n",
       "    <tr>\n",
       "      <th>5</th>\n",
       "      <td>Tamba Trio</td>\n",
       "      <td>Logged In</td>\n",
       "      <td>Kaylee</td>\n",
       "      <td>F</td>\n",
       "      <td>4</td>\n",
       "      <td>Summers</td>\n",
       "      <td>177.18812</td>\n",
       "      <td>free</td>\n",
       "      <td>Phoenix-Mesa-Scottsdale, AZ</td>\n",
       "      <td>PUT</td>\n",
       "      <td>NextSong</td>\n",
       "      <td>1540344794796</td>\n",
       "      <td>139</td>\n",
       "      <td>Quem Quiser Encontrar O Amor</td>\n",
       "      <td>200</td>\n",
       "      <td>1541106496796</td>\n",
       "      <td>\"Mozilla/5.0 (Windows NT 6.1; WOW64) AppleWebK...</td>\n",
       "      <td>8</td>\n",
       "    </tr>\n",
       "    <tr>\n",
       "      <th>6</th>\n",
       "      <td>The Mars Volta</td>\n",
       "      <td>Logged In</td>\n",
       "      <td>Kaylee</td>\n",
       "      <td>F</td>\n",
       "      <td>5</td>\n",
       "      <td>Summers</td>\n",
       "      <td>380.42077</td>\n",
       "      <td>free</td>\n",
       "      <td>Phoenix-Mesa-Scottsdale, AZ</td>\n",
       "      <td>PUT</td>\n",
       "      <td>NextSong</td>\n",
       "      <td>1540344794796</td>\n",
       "      <td>139</td>\n",
       "      <td>Eriatarka</td>\n",
       "      <td>200</td>\n",
       "      <td>1541106673796</td>\n",
       "      <td>\"Mozilla/5.0 (Windows NT 6.1; WOW64) AppleWebK...</td>\n",
       "      <td>8</td>\n",
       "    </tr>\n",
       "    <tr>\n",
       "      <th>7</th>\n",
       "      <td>Infected Mushroom</td>\n",
       "      <td>Logged In</td>\n",
       "      <td>Kaylee</td>\n",
       "      <td>F</td>\n",
       "      <td>6</td>\n",
       "      <td>Summers</td>\n",
       "      <td>440.26730</td>\n",
       "      <td>free</td>\n",
       "      <td>Phoenix-Mesa-Scottsdale, AZ</td>\n",
       "      <td>PUT</td>\n",
       "      <td>NextSong</td>\n",
       "      <td>1540344794796</td>\n",
       "      <td>139</td>\n",
       "      <td>Becoming Insane</td>\n",
       "      <td>200</td>\n",
       "      <td>1541107053796</td>\n",
       "      <td>\"Mozilla/5.0 (Windows NT 6.1; WOW64) AppleWebK...</td>\n",
       "      <td>8</td>\n",
       "    </tr>\n",
       "  </tbody>\n",
       "</table>\n",
       "</div>"
      ],
      "text/plain": [
       "              artist       auth firstName gender  itemInSession lastName  \\\n",
       "2            Des'ree  Logged In    Kaylee      F              1  Summers   \n",
       "4            Mr Oizo  Logged In    Kaylee      F              3  Summers   \n",
       "5         Tamba Trio  Logged In    Kaylee      F              4  Summers   \n",
       "6     The Mars Volta  Logged In    Kaylee      F              5  Summers   \n",
       "7  Infected Mushroom  Logged In    Kaylee      F              6  Summers   \n",
       "\n",
       "      length level                     location method      page  \\\n",
       "2  246.30812  free  Phoenix-Mesa-Scottsdale, AZ    PUT  NextSong   \n",
       "4  144.03873  free  Phoenix-Mesa-Scottsdale, AZ    PUT  NextSong   \n",
       "5  177.18812  free  Phoenix-Mesa-Scottsdale, AZ    PUT  NextSong   \n",
       "6  380.42077  free  Phoenix-Mesa-Scottsdale, AZ    PUT  NextSong   \n",
       "7  440.26730  free  Phoenix-Mesa-Scottsdale, AZ    PUT  NextSong   \n",
       "\n",
       "    registration  sessionId                          song  status  \\\n",
       "2  1540344794796        139                  You Gotta Be     200   \n",
       "4  1540344794796        139                       Flat 55     200   \n",
       "5  1540344794796        139  Quem Quiser Encontrar O Amor     200   \n",
       "6  1540344794796        139                     Eriatarka     200   \n",
       "7  1540344794796        139               Becoming Insane     200   \n",
       "\n",
       "              ts                                          userAgent  userId  \n",
       "2  1541106106796  \"Mozilla/5.0 (Windows NT 6.1; WOW64) AppleWebK...       8  \n",
       "4  1541106352796  \"Mozilla/5.0 (Windows NT 6.1; WOW64) AppleWebK...       8  \n",
       "5  1541106496796  \"Mozilla/5.0 (Windows NT 6.1; WOW64) AppleWebK...       8  \n",
       "6  1541106673796  \"Mozilla/5.0 (Windows NT 6.1; WOW64) AppleWebK...       8  \n",
       "7  1541107053796  \"Mozilla/5.0 (Windows NT 6.1; WOW64) AppleWebK...       8  "
      ]
     },
     "execution_count": 101,
     "metadata": {},
     "output_type": "execute_result"
    }
   ],
   "source": [
    "df = pd.read_json(filepath, lines=True)\n",
    "next_song = df['page'] == \"NextSong\"\n",
    "df[next_song].head()"
   ]
  },
  {
   "cell_type": "code",
   "execution_count": 102,
   "metadata": {},
   "outputs": [
    {
     "data": {
      "text/html": [
       "<div>\n",
       "<style scoped>\n",
       "    .dataframe tbody tr th:only-of-type {\n",
       "        vertical-align: middle;\n",
       "    }\n",
       "\n",
       "    .dataframe tbody tr th {\n",
       "        vertical-align: top;\n",
       "    }\n",
       "\n",
       "    .dataframe thead th {\n",
       "        text-align: right;\n",
       "    }\n",
       "</style>\n",
       "<table border=\"1\" class=\"dataframe\">\n",
       "  <thead>\n",
       "    <tr style=\"text-align: right;\">\n",
       "      <th></th>\n",
       "      <th>artist</th>\n",
       "      <th>auth</th>\n",
       "      <th>firstName</th>\n",
       "      <th>gender</th>\n",
       "      <th>itemInSession</th>\n",
       "      <th>lastName</th>\n",
       "      <th>length</th>\n",
       "      <th>level</th>\n",
       "      <th>location</th>\n",
       "      <th>method</th>\n",
       "      <th>page</th>\n",
       "      <th>registration</th>\n",
       "      <th>sessionId</th>\n",
       "      <th>song</th>\n",
       "      <th>status</th>\n",
       "      <th>ts</th>\n",
       "      <th>userAgent</th>\n",
       "      <th>userId</th>\n",
       "    </tr>\n",
       "  </thead>\n",
       "  <tbody>\n",
       "    <tr>\n",
       "      <th>2</th>\n",
       "      <td>Des'ree</td>\n",
       "      <td>Logged In</td>\n",
       "      <td>Kaylee</td>\n",
       "      <td>F</td>\n",
       "      <td>1</td>\n",
       "      <td>Summers</td>\n",
       "      <td>246.30812</td>\n",
       "      <td>free</td>\n",
       "      <td>Phoenix-Mesa-Scottsdale, AZ</td>\n",
       "      <td>PUT</td>\n",
       "      <td>NextSong</td>\n",
       "      <td>1540344794796</td>\n",
       "      <td>139</td>\n",
       "      <td>You Gotta Be</td>\n",
       "      <td>200</td>\n",
       "      <td>1970-01-01 00:25:41.106106796</td>\n",
       "      <td>\"Mozilla/5.0 (Windows NT 6.1; WOW64) AppleWebK...</td>\n",
       "      <td>8</td>\n",
       "    </tr>\n",
       "    <tr>\n",
       "      <th>4</th>\n",
       "      <td>Mr Oizo</td>\n",
       "      <td>Logged In</td>\n",
       "      <td>Kaylee</td>\n",
       "      <td>F</td>\n",
       "      <td>3</td>\n",
       "      <td>Summers</td>\n",
       "      <td>144.03873</td>\n",
       "      <td>free</td>\n",
       "      <td>Phoenix-Mesa-Scottsdale, AZ</td>\n",
       "      <td>PUT</td>\n",
       "      <td>NextSong</td>\n",
       "      <td>1540344794796</td>\n",
       "      <td>139</td>\n",
       "      <td>Flat 55</td>\n",
       "      <td>200</td>\n",
       "      <td>1970-01-01 00:25:41.106352796</td>\n",
       "      <td>\"Mozilla/5.0 (Windows NT 6.1; WOW64) AppleWebK...</td>\n",
       "      <td>8</td>\n",
       "    </tr>\n",
       "    <tr>\n",
       "      <th>5</th>\n",
       "      <td>Tamba Trio</td>\n",
       "      <td>Logged In</td>\n",
       "      <td>Kaylee</td>\n",
       "      <td>F</td>\n",
       "      <td>4</td>\n",
       "      <td>Summers</td>\n",
       "      <td>177.18812</td>\n",
       "      <td>free</td>\n",
       "      <td>Phoenix-Mesa-Scottsdale, AZ</td>\n",
       "      <td>PUT</td>\n",
       "      <td>NextSong</td>\n",
       "      <td>1540344794796</td>\n",
       "      <td>139</td>\n",
       "      <td>Quem Quiser Encontrar O Amor</td>\n",
       "      <td>200</td>\n",
       "      <td>1970-01-01 00:25:41.106496796</td>\n",
       "      <td>\"Mozilla/5.0 (Windows NT 6.1; WOW64) AppleWebK...</td>\n",
       "      <td>8</td>\n",
       "    </tr>\n",
       "    <tr>\n",
       "      <th>6</th>\n",
       "      <td>The Mars Volta</td>\n",
       "      <td>Logged In</td>\n",
       "      <td>Kaylee</td>\n",
       "      <td>F</td>\n",
       "      <td>5</td>\n",
       "      <td>Summers</td>\n",
       "      <td>380.42077</td>\n",
       "      <td>free</td>\n",
       "      <td>Phoenix-Mesa-Scottsdale, AZ</td>\n",
       "      <td>PUT</td>\n",
       "      <td>NextSong</td>\n",
       "      <td>1540344794796</td>\n",
       "      <td>139</td>\n",
       "      <td>Eriatarka</td>\n",
       "      <td>200</td>\n",
       "      <td>1970-01-01 00:25:41.106673796</td>\n",
       "      <td>\"Mozilla/5.0 (Windows NT 6.1; WOW64) AppleWebK...</td>\n",
       "      <td>8</td>\n",
       "    </tr>\n",
       "    <tr>\n",
       "      <th>7</th>\n",
       "      <td>Infected Mushroom</td>\n",
       "      <td>Logged In</td>\n",
       "      <td>Kaylee</td>\n",
       "      <td>F</td>\n",
       "      <td>6</td>\n",
       "      <td>Summers</td>\n",
       "      <td>440.26730</td>\n",
       "      <td>free</td>\n",
       "      <td>Phoenix-Mesa-Scottsdale, AZ</td>\n",
       "      <td>PUT</td>\n",
       "      <td>NextSong</td>\n",
       "      <td>1540344794796</td>\n",
       "      <td>139</td>\n",
       "      <td>Becoming Insane</td>\n",
       "      <td>200</td>\n",
       "      <td>1970-01-01 00:25:41.107053796</td>\n",
       "      <td>\"Mozilla/5.0 (Windows NT 6.1; WOW64) AppleWebK...</td>\n",
       "      <td>8</td>\n",
       "    </tr>\n",
       "  </tbody>\n",
       "</table>\n",
       "</div>"
      ],
      "text/plain": [
       "              artist       auth firstName gender  itemInSession lastName  \\\n",
       "2            Des'ree  Logged In    Kaylee      F              1  Summers   \n",
       "4            Mr Oizo  Logged In    Kaylee      F              3  Summers   \n",
       "5         Tamba Trio  Logged In    Kaylee      F              4  Summers   \n",
       "6     The Mars Volta  Logged In    Kaylee      F              5  Summers   \n",
       "7  Infected Mushroom  Logged In    Kaylee      F              6  Summers   \n",
       "\n",
       "      length level                     location method      page  \\\n",
       "2  246.30812  free  Phoenix-Mesa-Scottsdale, AZ    PUT  NextSong   \n",
       "4  144.03873  free  Phoenix-Mesa-Scottsdale, AZ    PUT  NextSong   \n",
       "5  177.18812  free  Phoenix-Mesa-Scottsdale, AZ    PUT  NextSong   \n",
       "6  380.42077  free  Phoenix-Mesa-Scottsdale, AZ    PUT  NextSong   \n",
       "7  440.26730  free  Phoenix-Mesa-Scottsdale, AZ    PUT  NextSong   \n",
       "\n",
       "    registration  sessionId                          song  status  \\\n",
       "2  1540344794796        139                  You Gotta Be     200   \n",
       "4  1540344794796        139                       Flat 55     200   \n",
       "5  1540344794796        139  Quem Quiser Encontrar O Amor     200   \n",
       "6  1540344794796        139                     Eriatarka     200   \n",
       "7  1540344794796        139               Becoming Insane     200   \n",
       "\n",
       "                             ts  \\\n",
       "2 1970-01-01 00:25:41.106106796   \n",
       "4 1970-01-01 00:25:41.106352796   \n",
       "5 1970-01-01 00:25:41.106496796   \n",
       "6 1970-01-01 00:25:41.106673796   \n",
       "7 1970-01-01 00:25:41.107053796   \n",
       "\n",
       "                                           userAgent  userId  \n",
       "2  \"Mozilla/5.0 (Windows NT 6.1; WOW64) AppleWebK...       8  \n",
       "4  \"Mozilla/5.0 (Windows NT 6.1; WOW64) AppleWebK...       8  \n",
       "5  \"Mozilla/5.0 (Windows NT 6.1; WOW64) AppleWebK...       8  \n",
       "6  \"Mozilla/5.0 (Windows NT 6.1; WOW64) AppleWebK...       8  \n",
       "7  \"Mozilla/5.0 (Windows NT 6.1; WOW64) AppleWebK...       8  "
      ]
     },
     "execution_count": 102,
     "metadata": {},
     "output_type": "execute_result"
    }
   ],
   "source": [
    "t = df[next_song].copy(deep=True)\n",
    "t['ts'] = pd.to_datetime(df['ts'])\n",
    "t.head()"
   ]
  },
  {
   "cell_type": "code",
   "execution_count": 103,
   "metadata": {},
   "outputs": [],
   "source": [
    "time_data = ([t['ts'], t['ts'].dt.hour, t['ts'].dt.day, t['ts'].dt.isocalendar().week, t['ts'].dt.month, t['ts'].dt.year, t['ts'].dt.day_name() ])\n",
    "column_labels = (['timestamp', 'hour','day', 'week_of_year','month', 'year', 'weekday'])"
   ]
  },
  {
   "cell_type": "code",
   "execution_count": 104,
   "metadata": {},
   "outputs": [
    {
     "data": {
      "text/html": [
       "<div>\n",
       "<style scoped>\n",
       "    .dataframe tbody tr th:only-of-type {\n",
       "        vertical-align: middle;\n",
       "    }\n",
       "\n",
       "    .dataframe tbody tr th {\n",
       "        vertical-align: top;\n",
       "    }\n",
       "\n",
       "    .dataframe thead th {\n",
       "        text-align: right;\n",
       "    }\n",
       "</style>\n",
       "<table border=\"1\" class=\"dataframe\">\n",
       "  <thead>\n",
       "    <tr style=\"text-align: right;\">\n",
       "      <th></th>\n",
       "      <th>timestamp</th>\n",
       "      <th>hour</th>\n",
       "      <th>day</th>\n",
       "      <th>week_of_year</th>\n",
       "      <th>month</th>\n",
       "      <th>year</th>\n",
       "      <th>weekday</th>\n",
       "    </tr>\n",
       "  </thead>\n",
       "  <tbody>\n",
       "    <tr>\n",
       "      <th>2</th>\n",
       "      <td>1970-01-01 00:25:41.106106796</td>\n",
       "      <td>0</td>\n",
       "      <td>1</td>\n",
       "      <td>1</td>\n",
       "      <td>1</td>\n",
       "      <td>1970</td>\n",
       "      <td>Thursday</td>\n",
       "    </tr>\n",
       "    <tr>\n",
       "      <th>4</th>\n",
       "      <td>1970-01-01 00:25:41.106352796</td>\n",
       "      <td>0</td>\n",
       "      <td>1</td>\n",
       "      <td>1</td>\n",
       "      <td>1</td>\n",
       "      <td>1970</td>\n",
       "      <td>Thursday</td>\n",
       "    </tr>\n",
       "    <tr>\n",
       "      <th>5</th>\n",
       "      <td>1970-01-01 00:25:41.106496796</td>\n",
       "      <td>0</td>\n",
       "      <td>1</td>\n",
       "      <td>1</td>\n",
       "      <td>1</td>\n",
       "      <td>1970</td>\n",
       "      <td>Thursday</td>\n",
       "    </tr>\n",
       "    <tr>\n",
       "      <th>6</th>\n",
       "      <td>1970-01-01 00:25:41.106673796</td>\n",
       "      <td>0</td>\n",
       "      <td>1</td>\n",
       "      <td>1</td>\n",
       "      <td>1</td>\n",
       "      <td>1970</td>\n",
       "      <td>Thursday</td>\n",
       "    </tr>\n",
       "    <tr>\n",
       "      <th>7</th>\n",
       "      <td>1970-01-01 00:25:41.107053796</td>\n",
       "      <td>0</td>\n",
       "      <td>1</td>\n",
       "      <td>1</td>\n",
       "      <td>1</td>\n",
       "      <td>1970</td>\n",
       "      <td>Thursday</td>\n",
       "    </tr>\n",
       "  </tbody>\n",
       "</table>\n",
       "</div>"
      ],
      "text/plain": [
       "                      timestamp  hour  day  week_of_year  month  year  \\\n",
       "2 1970-01-01 00:25:41.106106796     0    1             1      1  1970   \n",
       "4 1970-01-01 00:25:41.106352796     0    1             1      1  1970   \n",
       "5 1970-01-01 00:25:41.106496796     0    1             1      1  1970   \n",
       "6 1970-01-01 00:25:41.106673796     0    1             1      1  1970   \n",
       "7 1970-01-01 00:25:41.107053796     0    1             1      1  1970   \n",
       "\n",
       "    weekday  \n",
       "2  Thursday  \n",
       "4  Thursday  \n",
       "5  Thursday  \n",
       "6  Thursday  \n",
       "7  Thursday  "
      ]
     },
     "execution_count": 104,
     "metadata": {},
     "output_type": "execute_result"
    }
   ],
   "source": [
    "time_df = pd.DataFrame(dict(zip(column_labels, time_data)))\n",
    "time_df.head()"
   ]
  },
  {
   "cell_type": "markdown",
   "metadata": {},
   "source": [
    "# Insert Records into Time Table\n",
    "Implement the time_table_insert query in sql_queries.py and run the cell below to insert records for the timestamps in this log file into the time table. Remember to run create_tables.py before running the cell below to ensure you've created/resetted the time table in the sparkify database."
   ]
  },
  {
   "cell_type": "code",
   "execution_count": 105,
   "metadata": {},
   "outputs": [],
   "source": [
    "for i, row in time_df.iterrows():\n",
    "    cur.execute(time_insert, list(row))\n",
    "    conn.commit()"
   ]
  },
  {
   "cell_type": "markdown",
   "metadata": {},
   "source": [
    "Run test.ipynb to see if you've successfully added records to this table."
   ]
  },
  {
   "cell_type": "markdown",
   "metadata": {},
   "source": [
    "## Users Table\n",
    "# Extract Data for Users Table\n",
    "* Select columns for user ID, first name, last name, gender and level and set to user_df"
   ]
  },
  {
   "cell_type": "code",
   "execution_count": 106,
   "metadata": {},
   "outputs": [
    {
     "data": {
      "text/html": [
       "<div>\n",
       "<style scoped>\n",
       "    .dataframe tbody tr th:only-of-type {\n",
       "        vertical-align: middle;\n",
       "    }\n",
       "\n",
       "    .dataframe tbody tr th {\n",
       "        vertical-align: top;\n",
       "    }\n",
       "\n",
       "    .dataframe thead th {\n",
       "        text-align: right;\n",
       "    }\n",
       "</style>\n",
       "<table border=\"1\" class=\"dataframe\">\n",
       "  <thead>\n",
       "    <tr style=\"text-align: right;\">\n",
       "      <th></th>\n",
       "      <th>userId</th>\n",
       "      <th>firstName</th>\n",
       "      <th>lastName</th>\n",
       "      <th>gender</th>\n",
       "      <th>level</th>\n",
       "    </tr>\n",
       "  </thead>\n",
       "  <tbody>\n",
       "    <tr>\n",
       "      <th>2</th>\n",
       "      <td>8</td>\n",
       "      <td>Kaylee</td>\n",
       "      <td>Summers</td>\n",
       "      <td>F</td>\n",
       "      <td>free</td>\n",
       "    </tr>\n",
       "    <tr>\n",
       "      <th>10</th>\n",
       "      <td>10</td>\n",
       "      <td>Sylvie</td>\n",
       "      <td>Cruz</td>\n",
       "      <td>F</td>\n",
       "      <td>free</td>\n",
       "    </tr>\n",
       "    <tr>\n",
       "      <th>12</th>\n",
       "      <td>26</td>\n",
       "      <td>Ryan</td>\n",
       "      <td>Smith</td>\n",
       "      <td>M</td>\n",
       "      <td>free</td>\n",
       "    </tr>\n",
       "    <tr>\n",
       "      <th>14</th>\n",
       "      <td>101</td>\n",
       "      <td>Jayden</td>\n",
       "      <td>Fox</td>\n",
       "      <td>M</td>\n",
       "      <td>free</td>\n",
       "    </tr>\n",
       "  </tbody>\n",
       "</table>\n",
       "</div>"
      ],
      "text/plain": [
       "    userId firstName lastName gender level\n",
       "2        8    Kaylee  Summers      F  free\n",
       "10      10    Sylvie     Cruz      F  free\n",
       "12      26      Ryan    Smith      M  free\n",
       "14     101    Jayden      Fox      M  free"
      ]
     },
     "execution_count": 106,
     "metadata": {},
     "output_type": "execute_result"
    }
   ],
   "source": [
    "user_df = t.filter(['userId','firstName','lastName','gender','level']).drop_duplicates()\n",
    "user_df.head()"
   ]
  },
  {
   "cell_type": "markdown",
   "metadata": {},
   "source": [
    "# Insert Records into Users Table\n",
    "Implement the user_table_insert query in sql_queries.py and run the cell below to insert records for the users in this log file into the users table. Remember to run create_tables.py before running the cell below to ensure you've created/resetted the users table in the sparkify database."
   ]
  },
  {
   "cell_type": "code",
   "execution_count": 107,
   "metadata": {},
   "outputs": [],
   "source": [
    "for i, row in user_df.iterrows():\n",
    "    cur.execute(users_insert, row)\n",
    "    conn.commit()"
   ]
  },
  {
   "cell_type": "markdown",
   "metadata": {},
   "source": [
    "Run test.ipynb to see if you've successfully added records to this table."
   ]
  },
  {
   "cell_type": "markdown",
   "metadata": {},
   "source": [
    "## SongPlays Table\n",
    "# Extract Data and Songplays Table\n",
    "This one is a little more complicated since information from the songs table, artists table, and original log file are all needed for the songplays table. Since the log file does not specify an ID for either the song or the artist, you'll need to get the song ID and artist ID by querying the songs and artists tables to find matches based on song title, artist name, and song duration time.\n",
    "\n",
    "* Implement the song_select query in sql_queries.py to find the song ID and artist ID based on the title, artist name, and duration of a song.\n",
    "* Select the timestamp, user ID, level, song ID, artist ID, session ID, location, and user agent and set to songplay_data\n",
    "# Insert Records into Songplays Table\n",
    "* Implement the songplay_table_insert query and run the cell below to insert records for the songplay actions in this log file into the songplays table. Remember to run create_tables.py before running the cell below to ensure you've created/resetted the songplays table in the sparkify database."
   ]
  },
  {
   "cell_type": "code",
   "execution_count": 108,
   "metadata": {},
   "outputs": [],
   "source": [
    "for index, row in df.iterrows():\n",
    "    \n",
    "    # get songid and artistid from song and artist tables\n",
    "    cur.execute(song_select, (row.song, row.artist, row.length))\n",
    "    results = cur.fetchone()\n",
    "    if results:\n",
    "        songid, artistid = results\n",
    "    else:\n",
    "        songid, artistid = None, None\n",
    "    # insert songplay record\n",
    "    songplay_data = ([pd.to_datetime(row.ts), row.userId, row.level, songid, artistid, row.sessionId, row.location, row.userAgent])\n",
    "    cur.execute(songplays_insert, songplay_data)\n",
    "    conn.commit()"
   ]
  },
  {
   "cell_type": "markdown",
   "metadata": {},
   "source": [
    "Run test.ipynb to see if you've successfully added records to this table."
   ]
  },
  {
   "cell_type": "markdown",
   "metadata": {},
   "source": [
    "# Close Connection to Sparkify Database"
   ]
  },
  {
   "cell_type": "code",
   "execution_count": 109,
   "metadata": {},
   "outputs": [],
   "source": [
    "conn.close()"
   ]
  }
 ],
 "metadata": {
  "kernelspec": {
   "display_name": "Python 3.11.0 64-bit",
   "language": "python",
   "name": "python3"
  },
  "language_info": {
   "codemirror_mode": {
    "name": "ipython",
    "version": 3
   },
   "file_extension": ".py",
   "mimetype": "text/x-python",
   "name": "python",
   "nbconvert_exporter": "python",
   "pygments_lexer": "ipython3",
   "version": "3.11.0"
  },
  "orig_nbformat": 4,
  "vscode": {
   "interpreter": {
    "hash": "5f8474e16230d1bfd0ec7988e1f3ed193ee63e31f64881097e99e9e52132e572"
   }
  }
 },
 "nbformat": 4,
 "nbformat_minor": 2
}
