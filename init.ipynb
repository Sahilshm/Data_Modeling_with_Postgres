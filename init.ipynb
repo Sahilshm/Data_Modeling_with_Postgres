{
 "cells": [
  {
   "cell_type": "markdown",
   "metadata": {},
   "source": [
    "Libraries Notebook"
   ]
  },
  {
   "cell_type": "code",
   "execution_count": 2,
   "metadata": {},
   "outputs": [
    {
     "name": "stdout",
     "output_type": "stream",
     "text": [
      "Requirement already satisfied: pandas in c:\\users\\sahil\\appdata\\local\\programs\\python\\python311\\lib\\site-packages (1.5.1)\n",
      "Requirement already satisfied: python-dateutil>=2.8.1 in c:\\users\\sahil\\appdata\\roaming\\python\\python311\\site-packages (from pandas) (2.8.2)\n",
      "Requirement already satisfied: pytz>=2020.1 in c:\\users\\sahil\\appdata\\local\\programs\\python\\python311\\lib\\site-packages (from pandas) (2022.6)\n",
      "Requirement already satisfied: numpy>=1.21.0 in c:\\users\\sahil\\appdata\\local\\programs\\python\\python311\\lib\\site-packages (from pandas) (1.23.5)\n",
      "Requirement already satisfied: six>=1.5 in c:\\users\\sahil\\appdata\\roaming\\python\\python311\\site-packages (from python-dateutil>=2.8.1->pandas) (1.16.0)\n",
      "Note: you may need to restart the kernel to use updated packages.\n"
     ]
    }
   ],
   "source": [
    "pip install pandas"
   ]
  },
  {
   "cell_type": "code",
   "execution_count": 3,
   "metadata": {},
   "outputs": [
    {
     "name": "stdout",
     "output_type": "stream",
     "text": [
      "Requirement already satisfied: ipython-sql in c:\\users\\sahil\\appdata\\local\\programs\\python\\python311\\lib\\site-packages (0.4.1)\n",
      "Requirement already satisfied: prettytable<1 in c:\\users\\sahil\\appdata\\local\\programs\\python\\python311\\lib\\site-packages (from ipython-sql) (0.7.2)\n",
      "Requirement already satisfied: ipython>=1.0 in c:\\users\\sahil\\appdata\\roaming\\python\\python311\\site-packages (from ipython-sql) (8.6.0)\n",
      "Requirement already satisfied: sqlalchemy>=0.6.7 in c:\\users\\sahil\\appdata\\local\\programs\\python\\python311\\lib\\site-packages (from ipython-sql) (1.4.44)\n",
      "Requirement already satisfied: sqlparse in c:\\users\\sahil\\appdata\\local\\programs\\python\\python311\\lib\\site-packages (from ipython-sql) (0.4.3)\n",
      "Requirement already satisfied: six in c:\\users\\sahil\\appdata\\roaming\\python\\python311\\site-packages (from ipython-sql) (1.16.0)\n",
      "Requirement already satisfied: ipython-genutils>=0.1.0 in c:\\users\\sahil\\appdata\\local\\programs\\python\\python311\\lib\\site-packages (from ipython-sql) (0.2.0)\n",
      "Requirement already satisfied: backcall in c:\\users\\sahil\\appdata\\roaming\\python\\python311\\site-packages (from ipython>=1.0->ipython-sql) (0.2.0)\n",
      "Requirement already satisfied: decorator in c:\\users\\sahil\\appdata\\roaming\\python\\python311\\site-packages (from ipython>=1.0->ipython-sql) (5.1.1)\n",
      "Requirement already satisfied: jedi>=0.16 in c:\\users\\sahil\\appdata\\roaming\\python\\python311\\site-packages (from ipython>=1.0->ipython-sql) (0.18.2)\n",
      "Requirement already satisfied: matplotlib-inline in c:\\users\\sahil\\appdata\\roaming\\python\\python311\\site-packages (from ipython>=1.0->ipython-sql) (0.1.6)\n",
      "Requirement already satisfied: pickleshare in c:\\users\\sahil\\appdata\\roaming\\python\\python311\\site-packages (from ipython>=1.0->ipython-sql) (0.7.5)\n",
      "Requirement already satisfied: prompt-toolkit<3.1.0,>3.0.1 in c:\\users\\sahil\\appdata\\roaming\\python\\python311\\site-packages (from ipython>=1.0->ipython-sql) (3.0.33)\n",
      "Requirement already satisfied: pygments>=2.4.0 in c:\\users\\sahil\\appdata\\roaming\\python\\python311\\site-packages (from ipython>=1.0->ipython-sql) (2.13.0)\n",
      "Requirement already satisfied: stack-data in c:\\users\\sahil\\appdata\\roaming\\python\\python311\\site-packages (from ipython>=1.0->ipython-sql) (0.6.1)\n",
      "Requirement already satisfied: traitlets>=5 in c:\\users\\sahil\\appdata\\roaming\\python\\python311\\site-packages (from ipython>=1.0->ipython-sql) (5.5.0)\n",
      "Requirement already satisfied: colorama in c:\\users\\sahil\\appdata\\local\\programs\\python\\python311\\lib\\site-packages (from ipython>=1.0->ipython-sql) (0.4.6)\n",
      "Requirement already satisfied: greenlet!=0.4.17 in c:\\users\\sahil\\appdata\\local\\programs\\python\\python311\\lib\\site-packages (from sqlalchemy>=0.6.7->ipython-sql) (2.0.1)\n",
      "Requirement already satisfied: parso<0.9.0,>=0.8.0 in c:\\users\\sahil\\appdata\\roaming\\python\\python311\\site-packages (from jedi>=0.16->ipython>=1.0->ipython-sql) (0.8.3)\n",
      "Requirement already satisfied: wcwidth in c:\\users\\sahil\\appdata\\roaming\\python\\python311\\site-packages (from prompt-toolkit<3.1.0,>3.0.1->ipython>=1.0->ipython-sql) (0.2.5)\n",
      "Requirement already satisfied: executing>=1.2.0 in c:\\users\\sahil\\appdata\\roaming\\python\\python311\\site-packages (from stack-data->ipython>=1.0->ipython-sql) (1.2.0)\n",
      "Requirement already satisfied: asttokens>=2.1.0 in c:\\users\\sahil\\appdata\\roaming\\python\\python311\\site-packages (from stack-data->ipython>=1.0->ipython-sql) (2.1.0)\n",
      "Requirement already satisfied: pure-eval in c:\\users\\sahil\\appdata\\roaming\\python\\python311\\site-packages (from stack-data->ipython>=1.0->ipython-sql) (0.2.2)\n",
      "Note: you may need to restart the kernel to use updated packages.\n"
     ]
    }
   ],
   "source": [
    "pip install ipython-sql"
   ]
  }
 ],
 "metadata": {
  "kernelspec": {
   "display_name": "Python 3.11.0 64-bit",
   "language": "python",
   "name": "python3"
  },
  "language_info": {
   "codemirror_mode": {
    "name": "ipython",
    "version": 3
   },
   "file_extension": ".py",
   "mimetype": "text/x-python",
   "name": "python",
   "nbconvert_exporter": "python",
   "pygments_lexer": "ipython3",
   "version": "3.11.0"
  },
  "orig_nbformat": 4,
  "vscode": {
   "interpreter": {
    "hash": "5f8474e16230d1bfd0ec7988e1f3ed193ee63e31f64881097e99e9e52132e572"
   }
  }
 },
 "nbformat": 4,
 "nbformat_minor": 2
}
